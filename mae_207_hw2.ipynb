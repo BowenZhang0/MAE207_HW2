{
 "cells": [
  {
   "cell_type": "markdown",
   "metadata": {},
   "source": [
    "# Assignment 2: Inverse kinematics of our leg\n",
    "\n",
    "Use this noteboook to document interacting with the robot class. The primary goal for this assignment is a video recording and plot rendering of your robot leg commanded to move along an *interesting* path (see the bat sign I chose in the readme page). \n",
    "\n",
    "__Deliverables__\n",
    "1. Your leg.py file in the robot python module we are creating. The template provided has blank functions which need to be completed.\n",
    "2. Two videos, a video of your robot tracing out your commanded trajectory (uploaded to youtube), and a gif of robot commanded trajectory (like on the readme page).\n",
    "3. This notebook which you will use to send the move commands for the trajectory.\n",
    "\n",
    "\n",
    "Team #:\n",
    "\n",
    "Names:Bowen Zhang              seth"
   ]
  },
  {
   "cell_type": "markdown",
   "metadata": {},
   "source": [
    "# Getting started"
   ]
  },
  {
   "cell_type": "code",
   "execution_count": 1,
   "metadata": {},
   "outputs": [],
   "source": [
    "# Import the robot class we are developing\n",
    "import robot"
   ]
  },
  {
   "cell_type": "code",
   "execution_count": 2,
   "metadata": {},
   "outputs": [
    {
     "name": "stdout",
     "output_type": "stream",
     "text": [
      "Connected!\n"
     ]
    }
   ],
   "source": [
    "# Make a new leg variable which is a robot.Leg class\n",
    "leg = robot.Leg()"
   ]
  },
  {
   "cell_type": "code",
   "execution_count": 29,
   "metadata": {},
   "outputs": [
    {
     "name": "stdout",
     "output_type": "stream",
     "text": [
      "joint0: 1.570000 \t joint1: 1.570000\n"
     ]
    }
   ],
   "source": [
    "leg.get_joint_pos()#simulation\n",
    "\n",
    "print('joint0: %f \\t joint1: %f' % (leg.joint_0_pos, leg.joint_1_pos))"
   ]
  },
  {
   "cell_type": "markdown",
   "metadata": {},
   "source": [
    "# Your code below!"
   ]
  },
  {
   "cell_type": "code",
   "execution_count": 4,
   "metadata": {},
   "outputs": [],
   "source": [
    "import numpy as np\n",
    "#import the data from 'bat_sign.m'\n",
    "a = np.loadtxt('test_batman.txt') \n",
    "xx=a[0]\n",
    "yy=a[1]\n",
    "tt=58"
   ]
  },
  {
   "cell_type": "code",
   "execution_count": 5,
   "metadata": {},
   "outputs": [],
   "source": [
    "#test the estimate time of IK for a single point \n",
    "a11=leg.inverse_kinematics(0, 18)"
   ]
  },
  {
   "cell_type": "code",
   "execution_count": 6,
   "metadata": {},
   "outputs": [],
   "source": [
    "(simu_theta0, simu_theta1, simu_alpha0, simu_alpha1)=leg.move_trajectory(tt,xx, yy)"
   ]
  },
  {
   "cell_type": "code",
   "execution_count": 8,
   "metadata": {},
   "outputs": [
    {
     "name": "stdout",
     "output_type": "stream",
     "text": [
      "[2.93954657167360, 2.77096806694312, 2.69173023088843, 2.62716876937333, 2.56979716076946, 2.51686106201369, 2.46688426042448, 2.41899050602624, 2.37260921955184, 2.52820717355033, 2.52550663831082, 2.48852099827822, 2.42869434459795, 2.17212998156870, 2.24450156954763, 2.15858020405043, 2.04494394303940, 2.24902610978016, 2.21721585760760, 2.16468987678931, 2.08361418674277, 1.86042665089120, 1.82001726678030, 1.78044619781219, 1.74213328854808, 1.70573856152391, 1.67237412042511, 1.64419279306555, 1.62620680808100, 1.66782523742118, 1.81789661054673, 1.90943813550312, 1.99138998177380, 2.06860198684915, 2.14291373992883, 2.21527982123168, 2.20686199592083, 2.25062273174946, 2.31824364925342, 2.45040185160999, 2.44208434326826, 2.49743474583600, 2.58158410443368, 2.74511490539834, 2.68909137969924, 2.70708651111127, 2.75584237217387, 2.89328944003989, 2.83271173346437, 2.85984412459393, 2.92277918187816, 3.08698819611714, 3.10383936833938, 3.11259528822040, 3.11195137695777, 3.09883267132074, 3.06627050418633, 2.93954657167360]\n",
      "[1.47376710575975, 1.51538499143636, 1.49739874288909, 1.46921732624669, 1.43585270045814, 1.39945779716364, 1.36114471599933, 1.32157347730899, 1.28116392460061, 1.05797755504096, 0.976902052690271, 0.924376125095644, 0.892565763163195, 1.09664603363317, 0.983010716601121, 0.897089557237758, 0.969460451122098, 0.712897754167986, 0.653071278007195, 0.616085686632225, 0.613385103928568, 0.768982526437908, 0.722601454971773, 0.674707887652057, 0.624731248824003, 0.571795292026297, 0.514423808291064, 0.449862463277801, 0.370624748232762, 0.202046457923248, 0.0753226729305187, 0.0427605875204928, 0.0296419497141585, 0.0289981811131382, 0.0377541636777330, 0.0546053938633658, 0.218814098987019, 0.281749064417927, 0.308881548351745, 0.248304175261261, 0.385750928996238, 0.434506771439480, 0.452502048742824, 0.396479034488239, 0.560009295825206, 0.644158471809388, 0.699508860876720, 0.691191686656227, 0.823349462931426, 0.890970264308219, 0.934731079593437, 0.926313657805938, 0.998679655523103, 1.07299131144149, 1.15020314819756, 1.23215486550203, 1.32369621417264, 1.47376710575975]\n",
      "[1.26968803026935, 1.25802821863644, 1.23777472713085, 1.21654666670623, 1.19493680370745, 1.17323762768936, 1.15157961293574, 1.13003959704427, 1.10866781208643, 1.01084467453392, 0.969757291813984, 0.940323832208927, 0.920347725567568, 1.01633766066925, 0.960046174327038, 0.916593422085644, 0.956496062508813, 0.822143691069993, 0.791059210091794, 0.771930728913640, 0.771672733123198, 0.866058918945626, 0.845614423068986, 0.824490717685515, 0.802290123797338, 0.778401447763436, 0.751807595101474, 0.720639112963944, 0.680100462709651, 0.584882679191819, 0.508343066707617, 0.489010060238943, 0.481707071753008, 0.481990978878496, 0.487921827078863, 0.498624336123358, 0.574215356847484, 0.605868578333866, 0.621971876866078, 0.603091580160065, 0.666962152548850, 0.695069220527848, 0.712077590655722, 0.707540823352468, 0.776880377681328, 0.820496553778348, 0.854556674321989, 0.872280507414658, 0.927928589783577, 0.966351782821490, 0.999121856472470, 1.02724884968781, 1.06740608039964, 1.10696948216389, 1.14598657576470, 1.18453281074653, 1.22326430478251, 1.26968803026935]\n",
      "[2.55671020524496, 2.46149239662181, 2.42095371983334, 2.38978518319371, 2.36319128026524, 2.33930253956862, 2.31710186574050, 2.29597806405763, 2.27553345423968, 2.36991974796552, 2.36966175825634, 2.35053324424936, 2.31944866639986, 2.18509558961512, 2.22499847388874, 2.18154559135994, 2.12525370214798, 2.22124449931809, 2.20126845371996, 2.17183496883643, 2.13074749118040, 2.03292383225459, 2.01155213815671, 1.99001221492610, 1.96835429416651, 1.94665521363957, 1.92504544877787, 1.90381744410154, 1.88356408531440, 1.87190455268440, 1.91832854657148, 1.95706015108382, 1.99560646863202, 2.03462367938224, 2.07418714188205, 2.11434442257534, 2.14247112131544, 2.17524113039951, 2.21366439268662, 2.26931274984791, 2.28703634418228, 2.32109646088686, 2.36471274013114, 2.43405262187206, 2.42951551612106, 2.44652378691304, 2.47463085516143, 2.53850159563143, 2.51962110200379, 2.53572434580229, 2.56737760896824, 2.64296877926429, 2.65367125037380, 2.65960206100624, 2.65988589630633, 2.65258287541254, 2.63324983708677, 2.55671020524496]\n"
     ]
    }
   ],
   "source": [
    "#Collect the data from the simulation, and import to 'ThetaAlpha_batsignX.txt' for the\n",
    "#future use just to avoid wasting time to wait for the output\n",
    "print(simu_theta0)\n",
    "print(simu_theta1)\n",
    "print(simu_alpha0)\n",
    "print(simu_alpha1)\n",
    "b=np.array([simu_theta0])\n",
    "c=np.array([simu_theta1])\n",
    "d=np.array([simu_alpha0])\n",
    "e=np.array([simu_alpha1])\n",
    "np.savetxt(\"Batsign_theta0.txt\",b)\n",
    "np.savetxt(\"Batsign_theta1.txt\",c)\n",
    "np.savetxt(\"Batsign_alpha0.txt\",d)\n",
    "np.savetxt(\"Batsign_alpha1.txt\",e)"
   ]
  },
  {
   "cell_type": "code",
   "execution_count": 9,
   "metadata": {},
   "outputs": [],
   "source": [
    "import matplotlib.pyplot as plt\n",
    "from sympy import sin, cos\n",
    "import numpy as np\n",
    "\n",
    "%matplotlib qt5\n",
    "def simu_leg(l_base, l1, l2, theta1, theta2, alpha1, alpha2, ax=False):\n",
    "        \"\"\"\n",
    "        This function takes in the four angles of the leg and draws\n",
    "        the configuration\n",
    "        \"\"\"\n",
    "\n",
    "        link1, link2, width = l1, l2, l_base\n",
    "        cor_range = l1 + l2\n",
    "    \n",
    "        if ax == False:\n",
    "            ax = plt.gca()\n",
    "            ax.cla()\n",
    "\n",
    "        ax.plot(-width / 2, 0, 'ok')\n",
    "        ax.plot(width / 2, 0, 'ok')\n",
    "\n",
    "        ax.plot([-width / 2, 0], [0, 0], 'k')\n",
    "        ax.plot([width / 2, 0], [0, 0], 'k')\n",
    "\n",
    "        ax.plot(-width / 2 + np.array([0, link1 * cos(theta1)]), [0, link1 * sin(theta1)], 'k')\n",
    "        ax.plot(width / 2 + np.array([0, link1 * cos(theta2)]), [0, link1 * sin(theta2)], 'k')\n",
    "\n",
    "        ax.plot(-width / 2 + link1 * cos(theta1) + np.array([0, link2 * cos(alpha1)]), \\\n",
    "            link1 * sin(theta1) + np.array([0, link2 * sin(alpha1)]), 'k');\n",
    "        ax.plot(width / 2 + link1 * cos(theta2) + np.array([0, link2 * cos(alpha2)]), \\\n",
    "            np.array(link1 * sin(theta2) + np.array([0, link2 * sin(alpha2)])), 'k');\n",
    "            \n",
    "        curr_x = float(width / 2 + link1 * cos(theta2) + link2 * cos(alpha2))\n",
    "        curr_y = float(np.array(link1 * sin(theta2) + link2 * sin(alpha2)))\n",
    "\n",
    "        ax.plot(curr_x, curr_y, 'ro');\n",
    "\n",
    "        ax.axis([-cor_range, cor_range, -l1, cor_range])\n",
    "        ax.invert_yaxis()\n",
    "for i in range(tt):\n",
    "    simu_leg(8.3, 7.2, 14.2, simu_theta0[i], simu_theta1[i], simu_alpha0[i], simu_alpha1[i])\n",
    "    plt.plot(xx[0:i+1], yy[0:i+1])\n",
    "    plt.pause(.35)"
   ]
  },
  {
   "cell_type": "markdown",
   "metadata": {},
   "source": [
    "#GIF\n",
    "![Simulation of Trajectory gif](Bat_sign.gif)"
   ]
  },
  {
   "cell_type": "code",
   "execution_count": 3,
   "metadata": {},
   "outputs": [
    {
     "name": "stdout",
     "output_type": "stream",
     "text": [
      "1.5702053273202534\n",
      "1.570210043768141\n"
     ]
    }
   ],
   "source": [
    "(x_r,y_r) = leg.get_joint_pos()\n",
    "print(float(x_r))\n",
    "print(float(y_r))"
   ]
  },
  {
   "cell_type": "code",
   "execution_count": 9,
   "metadata": {},
   "outputs": [],
   "source": [
    "#import data from simulation\n",
    "import numpy as np\n",
    "\n",
    "theta_1=np.loadtxt('Batsign_theta1.txt') \n",
    "theta_0=np.loadtxt('Batsign_theta0.txt')\n",
    "\n",
    "# move to zero encoder pos \n",
    "leg.move_home()\n"
   ]
  },
  {
   "cell_type": "code",
   "execution_count": 6,
   "metadata": {},
   "outputs": [],
   "source": [
    "# read the home(zero) position and store it with rad as unit\n",
    "leg.set_home()"
   ]
  },
  {
   "cell_type": "code",
   "execution_count": 11,
   "metadata": {},
   "outputs": [],
   "source": [
    "#Use set_joint_pos to move the leg. instead of set_foot. Cause we already got the theta_0 and \n",
    "#theta_1\n",
    "import time\n",
    "for i in range(58):\n",
    "    leg.set_joint_pos(theta_0[i], theta_1[i])\n",
    "    time.sleep(.25)\n"
   ]
  },
  {
   "cell_type": "code",
   "execution_count": 2,
   "metadata": {},
   "outputs": [
    {
     "data": {
      "image/jpeg": "[encoded data removed]",
      "text/html": [
       "\n",
       "        <iframe\n",
       "            width=\"400\"\n",
       "            height=\"300\"\n",
       "            src=\"https://www.youtube.com/embed/VlzL-fLWaxI\"\n",
       "            frameborder=\"0\"\n",
       "            allowfullscreen\n",
       "        ></iframe>\n",
       "        "
      ],
      "text/plain": [
       "<IPython.lib.display.YouTubeVideo at 0x19d30e1ad30>"
      ]
     },
     "execution_count": 2,
     "metadata": {},
     "output_type": "execute_result"
    }
   ],
   "source": [
    "from IPython.lib.display import YouTubeVideo\n",
    "YouTubeVideo('VlzL-fLWaxI')"
   ]
  },
  {
   "cell_type": "code",
   "execution_count": null,
   "metadata": {},
   "outputs": [],
   "source": []
  }
 ],
 "metadata": {
  "kernelspec": {
   "display_name": "Python 3",
   "language": "python",
   "name": "python3"
  },
  "language_info": {
   "codemirror_mode": {
    "name": "ipython",
    "version": 3
   },
   "file_extension": ".py",
   "mimetype": "text/x-python",
   "name": "python",
   "nbconvert_exporter": "python",
   "pygments_lexer": "ipython3",
   "version": "3.6.4"
  }
 },
 "nbformat": 4,
 "nbformat_minor": 2
}
